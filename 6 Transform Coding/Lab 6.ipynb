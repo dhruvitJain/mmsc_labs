{
 "cells": [
  {
   "cell_type": "markdown",
   "metadata": {},
   "source": [
    "Experiment Number: 6\n",
    "\n",
    "Roll No: C018\n",
    "\n",
    "Student Name: Dhruvit Jain\n",
    "\n",
    "Program/Branch/Sem: B.TECH ExTC Sem 7\n",
    "\n",
    "Date of Performance: 08/08/2020\n",
    "\n",
    "Date of Submission: 08/08/2020\n",
    "\n",
    "\n",
    "Aim:To write a program in PYTHON to implement transform coding for the given example\n",
    "\n",
    "Subject: MMSC"
   ]
  },
  {
   "cell_type": "code",
   "execution_count": 95,
   "metadata": {},
   "outputs": [],
   "source": [
    "import matplotlib.pyplot as plt\n",
    "import  math\n",
    "import numpy as np\n",
    "import array"
   ]
  },
  {
   "cell_type": "code",
   "execution_count": 96,
   "metadata": {},
   "outputs": [
    {
     "data": {
      "text/plain": [
       "[<matplotlib.lines.Line2D at 0x2239a2614c8>]"
      ]
     },
     "execution_count": 96,
     "metadata": {},
     "output_type": "execute_result"
    },
    {
     "data": {
      "image/png": "[encoded data removed]",
      "text/plain": [
       "<Figure size 432x288 with 1 Axes>"
      ]
     },
     "metadata": {
      "needs_background": "light"
     },
     "output_type": "display_data"
    }
   ],
   "source": [
    "x0 = np.array([65,75,60,70,56,80,68,50,40,50,69,62,76,64])\n",
    "x1 = np.array([170,188,150,170,130,203,160,110,80,153,148,140,164,120])\n",
    "plt.scatter (x0,x1)\n",
    "m,b=np.polyfit(x0,x1,1)\n",
    "plt.plot (x0,m*x0+b,'r')\n",
    "#slope and constant #polyfit for best fit curve"
   ]
  },
  {
   "cell_type": "code",
   "execution_count": 97,
   "metadata": {},
   "outputs": [
    {
     "data": {
      "text/plain": [
       "1.1902899496825317"
      ]
     },
     "execution_count": 97,
     "metadata": {},
     "output_type": "execute_result"
    }
   ],
   "source": [
    "#find phi i.e tan inverse of slope \n",
    "m=2.5\n",
    "s=math.atan(m)\n",
    "s"
   ]
  },
  {
   "cell_type": "code",
   "execution_count": 98,
   "metadata": {},
   "outputs": [
    {
     "data": {
      "text/plain": [
       "array([[ 0.37139068,  0.92847669],\n",
       "       [-0.92847669,  0.37139068]])"
      ]
     },
     "execution_count": 98,
     "metadata": {},
     "output_type": "execute_result"
    }
   ],
   "source": [
    "#Transformation matrix\n",
    "A = np.array([[math.cos(s),math.sin(s)], [-math.sin(s),math.cos(s)]])\n",
    "A"
   ]
  },
  {
   "cell_type": "code",
   "execution_count": 99,
   "metadata": {},
   "outputs": [
    {
     "name": "stdout",
     "output_type": "stream",
     "text": [
      "[181, 202, 161, 183, 141, 218, 173, 120, 89, 160, 163, 153, 180, 135]\n",
      "[2, 0, 0, -1, -3, 1, -3, -5, -7, 10, -9, -5, -9, -14]\n"
     ]
    }
   ],
   "source": [
    "#to find theta = Ax\n",
    "a=list(zip(x0,x1))\n",
    "for i in range(0,len(a)):\n",
    "    a[i]= list(a[i])\n",
    "\n",
    "\n",
    "theta =[]\n",
    "for i in range (0,len(a)):\n",
    "    t1= A.dot(a[i]).astype(int)\n",
    "    theta.append(t1)\n",
    "    \n",
    "for i in range (0,len(theta)):\n",
    "    theta[i]=theta[i].tolist()\n",
    "\n",
    "theta0=[]\n",
    "theta1=[]\n",
    "\n",
    "for i in range (0,len(theta)):\n",
    "    theta0.append(theta[i][0])\n",
    "    theta1.append(theta[i][1])\n",
    "    \n",
    "print (theta0)\n",
    "print (theta1)"
   ]
  },
  {
   "cell_type": "code",
   "execution_count": 100,
   "metadata": {},
   "outputs": [],
   "source": [
    "#To achieve compression, discard theta1\n",
    "#CR = 28/14=2\n"
   ]
  },
  {
   "cell_type": "code",
   "execution_count": 101,
   "metadata": {},
   "outputs": [
    {
     "name": "stdout",
     "output_type": "stream",
     "text": [
      "[0, 0, 0, 0, 0, 0, 0, 0, 0, 0, 0, 0, 0, 0]\n"
     ]
    }
   ],
   "source": [
    "#For decompression, make t1=0\n",
    "\n",
    "for i in range (0,len(theta1)):\n",
    "    theta1[i]=0\n",
    "print (theta1)"
   ]
  },
  {
   "cell_type": "code",
   "execution_count": 102,
   "metadata": {},
   "outputs": [
    {
     "data": {
      "text/plain": [
       "array([[ 0.37139068, -0.92847669],\n",
       "       [ 0.92847669,  0.37139068]])"
      ]
     },
     "execution_count": 102,
     "metadata": {},
     "output_type": "execute_result"
    }
   ],
   "source": [
    "Ainv = np.linalg.inv(A)\n",
    "Ainv"
   ]
  },
  {
   "cell_type": "code",
   "execution_count": 103,
   "metadata": {},
   "outputs": [
    {
     "name": "stdout",
     "output_type": "stream",
     "text": [
      "[67, 75, 59, 67, 52, 80, 64, 44, 33, 59, 60, 56, 66, 50]\n",
      "[168, 187, 149, 169, 130, 202, 160, 111, 82, 148, 151, 142, 167, 125]\n"
     ]
    }
   ],
   "source": [
    "b=list(zip(theta0,theta1))\n",
    "for i in range(0,len(b)):\n",
    "    b[i]= list(b[i])\n",
    "\n",
    "\n",
    "xbar =[]\n",
    "for i in range (0,len(b)):\n",
    "    t1= Ainv.dot(b[i]).astype(int)\n",
    "    xbar.append(t1)\n",
    "\n",
    "\n",
    "for i in range (0,len(xbar)):\n",
    "    xbar[i]=xbar[i].tolist()\n",
    "\n",
    "\n",
    "x0inv=[]\n",
    "x1inv=[]\n",
    "\n",
    "for i in range (0,len(xbar)):\n",
    "    x0inv.append(xbar[i][0])\n",
    "    x1inv.append(xbar[i][1])\n",
    "    \n",
    "print (x0inv)\n",
    "print (x1inv)"
   ]
  },
  {
   "cell_type": "code",
   "execution_count": 104,
   "metadata": {},
   "outputs": [
    {
     "name": "stdout",
     "output_type": "stream",
     "text": [
      "44.642857142857146\n",
      "6.071428571428571\n"
     ]
    }
   ],
   "source": [
    "#MSE\n",
    "# x0 = np.array([65,75,60,70,56,80,68,50,40,50,69,62,76,64])\n",
    "# x0inv = np.array(x0inv)\n",
    "\n",
    "\n",
    "MSEHeight = (np.square(np.subtract(x0,x0inv)))\n",
    "print (MSEHeight.mean())\n",
    "MSEWeight = (np.square(np.subtract(x1,x1inv)))\n",
    "print (MSEWeight.mean())\n"
   ]
  },
  {
   "cell_type": "markdown",
   "metadata": {},
   "source": [
    "CONCLUSION : \n",
    "\n",
    "Basic idea of transform coding is to compact most information in a source sequence into a few elements of the transformed sequence using reversible transform and then discarding the elements of the sequence that do not contain much information to obtain compression. Maximum compaction can be obtained if the transform used can decorrelate the input sequence. This is a lossy method of compression as we are discaring an entire vector and hence, the compression ratio is 2 here. Then, we calculate the mean square error for both the recovered values. "
   ]
  },
  {
   "cell_type": "code",
   "execution_count": null,
   "metadata": {},
   "outputs": [],
   "source": []
  }
 ],
 "metadata": {
  "kernelspec": {
   "display_name": "Python 3",
   "language": "python",
   "name": "python3"
  },
  "language_info": {
   "codemirror_mode": {
    "name": "ipython",
    "version": 3
   },
   "file_extension": ".py",
   "mimetype": "text/x-python",
   "name": "python",
   "nbconvert_exporter": "python",
   "pygments_lexer": "ipython3",
   "version": "3.7.4"
  }
 },
 "nbformat": 4,
 "nbformat_minor": 4
}
