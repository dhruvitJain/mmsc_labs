{
 "cells": [
  {
   "cell_type": "markdown",
   "metadata": {},
   "source": [
    "Experiment Number: 10\n",
    "\n",
    "Roll No: C018\n",
    "\n",
    "Student Name: Dhruvit Jain\n",
    "\n",
    "Program/Branch/Sem: B.TECH ExTC Sem 7\n",
    "\n",
    "Date of Performance: 03/10/2020\n",
    "\n",
    "Date of Submission: 03/10/2020\n",
    "\n",
    "Aim:\n",
    "To WAP in PYTHON to implement Video Compression\n",
    "\n",
    "Subject: MMSC"
   ]
  },
  {
   "cell_type": "code",
   "execution_count": 3,
   "metadata": {},
   "outputs": [],
   "source": [
    "import cv2"
   ]
  },
  {
   "cell_type": "code",
   "execution_count": 50,
   "metadata": {},
   "outputs": [],
   "source": [
    "def FrameCapture(path):\n",
    "    vidObj = cv2.VideoCapture(path)\n",
    "    count = 0\n",
    "    success = 1\n",
    "    while success:\n",
    "        success, image = vidObj.read()\n",
    "        if count <10:\n",
    "            cv2.imwrite(\"C://Users//dhruv//Desktop//College//NOTES//MMSC//Labs//10//frames//frame00%d.jpg\" %count, image)\n",
    "            count += 1\n",
    "            continue\n",
    "        elif count >= 10 and count < 100:\n",
    "            cv2.imwrite(\"C://Users//dhruv//Desktop//College//NOTES//MMSC//Labs//10//frames//frame0%d.jpg\" %count, image)\n",
    "            count += 1\n",
    "            continue\n",
    "        elif  count >=100:\n",
    "            cv2.imwrite(\"C://Users//dhruv//Desktop//College//NOTES//MMSC//Labs//10//frames//frame%d.jpg\" %count, image)\n",
    "            count += 1\n",
    "            continue\n",
    "FrameCapture(\"C:/Users/dhruv/Desktop/College/NOTES/MMSC/Labs/10/rhinos.avi\")"
   ]
  },
  {
   "cell_type": "code",
   "execution_count": 51,
   "metadata": {},
   "outputs": [],
   "source": [
    "import cv2\n",
    "import numpy as np\n",
    "import os\n",
    "from os.path import isfile, join\n",
    "\n",
    "pathIn= 'C://Users//dhruv//Desktop//College//NOTES//MMSC//Labs//10//frames//'\n",
    "pathOut = 'video.avi'\n",
    "fps = 15\n",
    "\n",
    "frame_array = []\n",
    "files = [f for f in os.listdir(pathIn) if isfile(join(pathIn, f))]\n",
    "\n",
    "for i in range(len(files)):\n",
    "    filename=pathIn + files[i]\n",
    "    if (filename == 'C://Users//dhruv//Desktop//College//NOTES//MMSC//Labs//10//frames//frame114.jpg'):\n",
    "        continue\n",
    "    else:\n",
    "        #reading each files\n",
    "        img = cv2.imread(filename)\n",
    "        height, width, layers = img.shape\n",
    "        size = (width,height)\n",
    "\n",
    "        #inserting the frames into an image array\n",
    "        frame_array.append(img)\n",
    "out = cv2.VideoWriter(pathOut,cv2.VideoWriter_fourcc(*'DIVX'), fps, size)\n",
    "\n",
    "for i in range(len(frame_array)):\n",
    "    # writing to a image array\n",
    "    out.write(frame_array[i])\n",
    "out.release()"
   ]
  },
  {
   "cell_type": "code",
   "execution_count": 59,
   "metadata": {},
   "outputs": [],
   "source": [
    "import cv2\n",
    "import numpy as np\n",
    "import os\n",
    "from os.path import isfile, join\n",
    "\n",
    "pathIn= 'C://Users//dhruv//Desktop//College//NOTES//MMSC//Labs//10//frames//'\n",
    "pathOut = 'video_subsampled.avi'\n",
    "fps = 15\n",
    "\n",
    "frame_array = []\n",
    "files = [f for f in os.listdir(pathIn) if isfile(join(pathIn, f))]\n",
    "\n",
    "for i in range(len(files)-1):\n",
    "    if i%2 == 0:\n",
    "        files [i] = (files [i+1])\n",
    "        filename=pathIn + files[i]\n",
    "        if (filename == 'C://Users//dhruv//Desktop//College//NOTES//MMSC//Labs//10//frames//frame114.jpg'):\n",
    "            continue\n",
    "        else:\n",
    "            #reading each files\n",
    "            img = cv2.imread(filename)\n",
    "            height, width, layers = img.shape\n",
    "            size = (width,height)\n",
    "\n",
    "            #inserting the frames into an image array\n",
    "            frame_array.append(img)\n",
    "    else:\n",
    "        filename=pathIn + files[i]\n",
    "        if (filename == 'C://Users//dhruv//Desktop//College//NOTES//MMSC//Labs//10//frames//frame114.jpg'):\n",
    "            continue\n",
    "        else:\n",
    "            #reading each files\n",
    "            img = cv2.imread(filename)\n",
    "            height, width, layers = img.shape\n",
    "            size = (width,height)\n",
    "\n",
    "            #inserting the frames into an image array\n",
    "            frame_array.append(img)\n",
    "out = cv2.VideoWriter(pathOut,cv2.VideoWriter_fourcc(*'DIVX'), fps, size)\n",
    "\n",
    "for i in range(len(frame_array)):\n",
    "    # writing to a image array\n",
    "    out.write(frame_array[i])\n",
    "out.release()"
   ]
  },
  {
   "cell_type": "markdown",
   "metadata": {},
   "source": [
    "CONCLUSIONS:\n",
    "\n",
    "Video compression is based on two principles: spatial redundancy and temporal redundancy. Hence a typical technique to start video compression would be to start encoding the first frame using a still image compression method. It should then encode the successive frames by identifying the differences between the frame and its predecessor and encoding these differences. If the frame is very different from its predecessor then it should be coded independently of any other frame. Few intuitive video compression methods are Subsampling, Differencing, Block Differencing, Motion Compensation, Frame Segmentation etc.\n",
    "In this, we have ignored the even numbered slides and duplicated the odd slides to be there on the even numbered slides. \n",
    "\n",
    "We notice that the video is still visibly good and no noticable difference is seen, except a reduction of frame rate as the frames are duplicated. Hence, we achieve compression with barely any loss of quality using subsampling of the frames.  "
   ]
  }
 ],
 "metadata": {
  "kernelspec": {
   "display_name": "Python 3",
   "language": "python",
   "name": "python3"
  },
  "language_info": {
   "codemirror_mode": {
    "name": "ipython",
    "version": 3
   },
   "file_extension": ".py",
   "mimetype": "text/x-python",
   "name": "python",
   "nbconvert_exporter": "python",
   "pygments_lexer": "ipython3",
   "version": "3.7.4"
  }
 },
 "nbformat": 4,
 "nbformat_minor": 4
}
